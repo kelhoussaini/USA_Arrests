{
 "cells": [
  {
   "cell_type": "code",
   "execution_count": 1,
   "id": "fec34c0f",
   "metadata": {},
   "outputs": [],
   "source": [
    "# Libraries\n",
    "# ==============================================================================\n",
    "import numpy as np\n",
    "import pandas as pd\n",
    "import statsmodels.api as sm\n",
    "\n",
    "import matplotlib.pyplot as plt\n",
    "import matplotlib.font_manager\n",
    "from matplotlib import style\n",
    "style.use('ggplot') or plt.style.use('ggplot')\n",
    "\n",
    "from sklearn.decomposition import PCA\n",
    "from sklearn.pipeline import make_pipeline\n",
    "from sklearn.preprocessing import StandardScaler\n",
    "from sklearn.preprocessing import scale\n",
    "\n",
    "import warnings\n",
    "warnings.filterwarnings('ignore') # Configuracion warnings"
   ]
  },
  {
   "cell_type": "markdown",
   "id": "96a428ad",
   "metadata": {},
   "source": [
    "# Get data"
   ]
  },
  {
   "cell_type": "code",
   "execution_count": 23,
   "id": "9e98093b",
   "metadata": {},
   "outputs": [
    {
     "data": {
      "text/plain": [
       "<class 'statsmodels.datasets.utils.Dataset'>"
      ]
     },
     "execution_count": 23,
     "metadata": {},
     "output_type": "execute_result"
    }
   ],
   "source": [
    "arrests= sm.datasets.get_rdataset(\"USArrests\", \"datasets\")\n",
    "arrests"
   ]
  },
  {
   "cell_type": "code",
   "execution_count": 24,
   "id": "f2b06fa4",
   "metadata": {},
   "outputs": [
    {
     "data": {
      "text/plain": [
       "dict_keys(['data', '__doc__', 'package', 'title', 'from_cache', 'raw_data'])"
      ]
     },
     "execution_count": 24,
     "metadata": {},
     "output_type": "execute_result"
    }
   ],
   "source": [
    "arrests.__dict__.keys()"
   ]
  },
  {
   "cell_type": "code",
   "execution_count": 25,
   "id": "0271920e",
   "metadata": {},
   "outputs": [
    {
     "data": {
      "text/plain": [
       "((50, 4), (50, 4))"
      ]
     },
     "execution_count": 25,
     "metadata": {},
     "output_type": "execute_result"
    }
   ],
   "source": [
    "arrests.raw_data.shape, arrests.data.shape"
   ]
  },
  {
   "cell_type": "code",
   "execution_count": 33,
   "id": "263bd044",
   "metadata": {},
   "outputs": [
    {
     "data": {
      "text/plain": [
       "'Violent Crime Rates by US State'"
      ]
     },
     "execution_count": 33,
     "metadata": {},
     "output_type": "execute_result"
    }
   ],
   "source": [
    "arrests.title"
   ]
  },
  {
   "cell_type": "code",
   "execution_count": 36,
   "id": "07f00578",
   "metadata": {},
   "outputs": [
    {
     "data": {
      "text/plain": [
       "'.. container::\\n\\n   ========= ===============\\n   USArrests R Documentation\\n   ========= ===============\\n\\n   .. rubric:: Violent Crime Rates by US State\\n      :name: violent-crime-rates-by-us-state\\n\\n   .. rubric:: Description\\n      :name: description\\n\\n   This data set contains statistics, in arrests per 100,000 residents\\n   for assault, murder, and rape in each of the 50 US states in 1973.\\n   Also given is the percent of the population living in urban areas.\\n\\n   .. rubric:: Usage\\n      :name: usage\\n\\n   ::\\n\\n      USArrests\\n\\n   .. rubric:: Format\\n      :name: format\\n\\n   A data frame with 50 observations on 4 variables.\\n\\n   ==== ======== ======= =============================\\n   [,1] Murder   numeric Murder arrests (per 100,000)\\n   [,2] Assault  numeric Assault arrests (per 100,000)\\n   [,3] UrbanPop numeric Percent urban population\\n   [,4] Rape     numeric Rape arrests (per 100,000)\\n   ==== ======== ======= =============================\\n\\n   .. rubric:: Note\\n      :name: note\\n\\n   ``USArrests`` contains the data as in McNeil\\'s monograph. For the\\n   ``UrbanPop`` percentages, a review of the table (No. 21) in the\\n   Statistical Abstracts 1975 reveals a transcription error for Maryland\\n   (and that McNeil used the same “round to even” rule that R\\'s\\n   ``round()`` uses), as found by Daniel S Coven (Arizona).\\n\\n   See the example below on how to correct the error and improve\\n   accuracy for the ‘<n>.5’ percentages.\\n\\n   .. rubric:: Source\\n      :name: source\\n\\n   World Almanac and Book of facts 1975. (Crime rates).\\n\\n   Statistical Abstracts of the United States 1975, p.20, (Urban rates),\\n   possibly available as\\n   https://books.google.ch/books?id=zl9qAAAAMAAJ&pg=PA20.\\n\\n   .. rubric:: References\\n      :name: references\\n\\n   McNeil, D. R. (1977) *Interactive Data Analysis*. New York: Wiley.\\n\\n   .. rubric:: See Also\\n      :name: see-also\\n\\n   The ``state`` data sets.\\n\\n   .. rubric:: Examples\\n      :name: examples\\n\\n   ::\\n\\n      summary(USArrests)\\n\\n      require(graphics)\\n      pairs(USArrests, panel = panel.smooth, main = \"USArrests data\")\\n\\n      ## Difference between \\'USArrests\\' and its correction\\n      USArrests[\"Maryland\", \"UrbanPop\"] # 67 -- the transcription error\\n      UA.C <- USArrests\\n      UA.C[\"Maryland\", \"UrbanPop\"] <- 76.6\\n\\n      ## also +/- 0.5 to restore the original  <n>.5  percentages\\n      s5u <- c(\"Colorado\", \"Florida\", \"Mississippi\", \"Wyoming\")\\n      s5d <- c(\"Nebraska\", \"Pennsylvania\")\\n      UA.C[s5u, \"UrbanPop\"] <- UA.C[s5u, \"UrbanPop\"] + 0.5\\n      UA.C[s5d, \"UrbanPop\"] <- UA.C[s5d, \"UrbanPop\"] - 0.5\\n\\n      ## ==> UA.C  is now a *C*orrected version of  USArrests\\n'"
      ]
     },
     "execution_count": 36,
     "metadata": {},
     "output_type": "execute_result"
    }
   ],
   "source": [
    "arrests.__doc__"
   ]
  },
  {
   "cell_type": "code",
   "execution_count": 28,
   "id": "f86a10ff",
   "metadata": {},
   "outputs": [
    {
     "data": {
      "text/html": [
       "<div>\n",
       "<style scoped>\n",
       "    .dataframe tbody tr th:only-of-type {\n",
       "        vertical-align: middle;\n",
       "    }\n",
       "\n",
       "    .dataframe tbody tr th {\n",
       "        vertical-align: top;\n",
       "    }\n",
       "\n",
       "    .dataframe thead th {\n",
       "        text-align: right;\n",
       "    }\n",
       "</style>\n",
       "<table border=\"1\" class=\"dataframe\">\n",
       "  <thead>\n",
       "    <tr style=\"text-align: right;\">\n",
       "      <th></th>\n",
       "      <th>Murder</th>\n",
       "      <th>Assault</th>\n",
       "      <th>UrbanPop</th>\n",
       "      <th>Rape</th>\n",
       "    </tr>\n",
       "  </thead>\n",
       "  <tbody>\n",
       "    <tr>\n",
       "      <th>Alabama</th>\n",
       "      <td>13.2</td>\n",
       "      <td>236.0</td>\n",
       "      <td>58.0</td>\n",
       "      <td>21.2</td>\n",
       "    </tr>\n",
       "    <tr>\n",
       "      <th>Alaska</th>\n",
       "      <td>10.0</td>\n",
       "      <td>263.0</td>\n",
       "      <td>48.0</td>\n",
       "      <td>44.5</td>\n",
       "    </tr>\n",
       "  </tbody>\n",
       "</table>\n",
       "</div>"
      ],
      "text/plain": [
       "         Murder  Assault  UrbanPop  Rape\n",
       "Alabama    13.2    236.0      58.0  21.2\n",
       "Alaska     10.0    263.0      48.0  44.5"
      ]
     },
     "execution_count": 28,
     "metadata": {},
     "output_type": "execute_result"
    }
   ],
   "source": [
    "arrests.raw_data.head(2)"
   ]
  },
  {
   "cell_type": "code",
   "execution_count": 29,
   "id": "991f5e6a",
   "metadata": {},
   "outputs": [
    {
     "name": "stdout",
     "output_type": "stream",
     "text": [
      "<class 'pandas.core.frame.DataFrame'>\n",
      "Index: 50 entries, Alabama to Wyoming\n",
      "Data columns (total 4 columns):\n",
      " #   Column    Non-Null Count  Dtype  \n",
      "---  ------    --------------  -----  \n",
      " 0   Murder    50 non-null     float64\n",
      " 1   Assault   50 non-null     int64  \n",
      " 2   UrbanPop  50 non-null     int64  \n",
      " 3   Rape      50 non-null     float64\n",
      "dtypes: float64(2), int64(2)\n",
      "memory usage: 2.0+ KB\n"
     ]
    }
   ],
   "source": [
    "data = arrests.data\n",
    "data.info()"
   ]
  },
  {
   "cell_type": "markdown",
   "id": "6bfd820f",
   "metadata": {},
   "source": [
    "## Checking out Missing values"
   ]
  },
  {
   "cell_type": "code",
   "execution_count": 90,
   "id": "93649180",
   "metadata": {},
   "outputs": [
    {
     "data": {
      "text/plain": [
       "0"
      ]
     },
     "execution_count": 90,
     "metadata": {},
     "output_type": "execute_result"
    }
   ],
   "source": [
    "data.isnull().sum().sum()"
   ]
  },
  {
   "cell_type": "code",
   "execution_count": 30,
   "id": "a8951e37",
   "metadata": {},
   "outputs": [
    {
     "data": {
      "text/html": [
       "<div>\n",
       "<style scoped>\n",
       "    .dataframe tbody tr th:only-of-type {\n",
       "        vertical-align: middle;\n",
       "    }\n",
       "\n",
       "    .dataframe tbody tr th {\n",
       "        vertical-align: top;\n",
       "    }\n",
       "\n",
       "    .dataframe thead th {\n",
       "        text-align: right;\n",
       "    }\n",
       "</style>\n",
       "<table border=\"1\" class=\"dataframe\">\n",
       "  <thead>\n",
       "    <tr style=\"text-align: right;\">\n",
       "      <th></th>\n",
       "      <th>Murder</th>\n",
       "      <th>Assault</th>\n",
       "      <th>UrbanPop</th>\n",
       "      <th>Rape</th>\n",
       "    </tr>\n",
       "  </thead>\n",
       "  <tbody>\n",
       "    <tr>\n",
       "      <th>Alabama</th>\n",
       "      <td>13.2</td>\n",
       "      <td>236</td>\n",
       "      <td>58</td>\n",
       "      <td>21.2</td>\n",
       "    </tr>\n",
       "    <tr>\n",
       "      <th>Alaska</th>\n",
       "      <td>10.0</td>\n",
       "      <td>263</td>\n",
       "      <td>48</td>\n",
       "      <td>44.5</td>\n",
       "    </tr>\n",
       "  </tbody>\n",
       "</table>\n",
       "</div>"
      ],
      "text/plain": [
       "         Murder  Assault  UrbanPop  Rape\n",
       "Alabama    13.2      236        58  21.2\n",
       "Alaska     10.0      263        48  44.5"
      ]
     },
     "execution_count": 30,
     "metadata": {},
     "output_type": "execute_result"
    }
   ],
   "source": [
    "data.head(2)"
   ]
  },
  {
   "cell_type": "markdown",
   "id": "76e845b1",
   "metadata": {},
   "source": [
    "Before applying PCA, let define the mean and variance of variables"
   ]
  },
  {
   "cell_type": "markdown",
   "id": "dfa4a6da",
   "metadata": {},
   "source": [
    "# First exploration"
   ]
  },
  {
   "cell_type": "code",
   "execution_count": 31,
   "id": "aaada8b1",
   "metadata": {},
   "outputs": [
    {
     "data": {
      "text/plain": [
       "Murder        7.788\n",
       "Assault     170.760\n",
       "UrbanPop     65.540\n",
       "Rape         21.232\n",
       "dtype: float64"
      ]
     },
     "execution_count": 31,
     "metadata": {},
     "output_type": "execute_result"
    }
   ],
   "source": [
    "# mean\n",
    "data.mean(axis=0)"
   ]
  },
  {
   "cell_type": "code",
   "execution_count": 49,
   "id": "cbdb3a76",
   "metadata": {},
   "outputs": [
    {
     "name": "stdout",
     "output_type": "stream",
     "text": [
      "'Assault' Vs. 'Rape' --->  8.042577241899023\n",
      "'Rape' Vs. 'Murder' --->  2.726245505906522\n",
      "'UrbanPop' Vs. 'Murder' --->  8.415511042629689\n"
     ]
    }
   ],
   "source": [
    "index1 = 'Murder'; index2 = 'Assault';\n",
    "index3 = 'UrbanPop' ; index4 = 'Rape'\n",
    "\n",
    "print(\"'Assault' Vs. 'Rape' ---> \", data.mean(axis=0)[index2] / data.mean(axis=0)[index4])\n",
    "print(\"'Rape' Vs. 'Murder' ---> \", data.mean(axis=0)[index4] / data.mean(axis=0)[index1])\n",
    "\n",
    "print(\"'UrbanPop' Vs. 'Murder' ---> \", data.mean(axis=0)[index3] / data.mean(axis=0)[index1])\n"
   ]
  },
  {
   "cell_type": "markdown",
   "id": "7fc6793e",
   "metadata": {},
   "source": [
    "The mean of the variables shows that there are : \n",
    "\n",
    "* 8 times more assaults than kidnappings/Rape\n",
    "* 3 times more kidnappings/Rape than murders \n"
   ]
  },
  {
   "cell_type": "code",
   "execution_count": 50,
   "id": "8577d4f2",
   "metadata": {},
   "outputs": [
    {
     "data": {
      "text/plain": [
       "Murder        18.970465\n",
       "Assault     6945.165714\n",
       "UrbanPop     209.518776\n",
       "Rape          87.729159\n",
       "dtype: float64"
      ]
     },
     "execution_count": 50,
     "metadata": {},
     "output_type": "execute_result"
    }
   ],
   "source": [
    "# variance\n",
    "data.var(axis=0)"
   ]
  },
  {
   "cell_type": "code",
   "execution_count": null,
   "id": "7d325aa1",
   "metadata": {},
   "outputs": [],
   "source": [
    "the Assault variable has a much higher mean and dispersion than the rest,\n",
    "the Assault variable will dominate most of the principal components, with no scaling"
   ]
  },
  {
   "cell_type": "code",
   "execution_count": null,
   "id": "c0426a50",
   "metadata": {},
   "outputs": [],
   "source": [
    "We need to standardize variables before conducting the PCA study"
   ]
  },
  {
   "cell_type": "markdown",
   "id": "1ff70950",
   "metadata": {},
   "source": [
    "# Standardize data"
   ]
  },
  {
   "cell_type": "code",
   "execution_count": 57,
   "id": "d2fe7ed6",
   "metadata": {},
   "outputs": [
    {
     "data": {
      "text/plain": [
       "Pipeline(steps=[('standardscaler', StandardScaler()), ('pca', PCA())])"
      ]
     },
     "execution_count": 57,
     "metadata": {},
     "output_type": "execute_result"
    }
   ],
   "source": [
    "# Scaling data\n",
    "pca_pipe = make_pipeline(StandardScaler(), PCA())\n",
    "\n",
    "# Training the PCA model \n",
    "pca_pipe.fit(data)"
   ]
  },
  {
   "cell_type": "code",
   "execution_count": 58,
   "id": "b9d2a9e3",
   "metadata": {},
   "outputs": [
    {
     "data": {
      "text/plain": [
       "Pipeline(steps=[('standardscaler', StandardScaler()), ('pca', PCA())])"
      ]
     },
     "execution_count": 58,
     "metadata": {},
     "output_type": "execute_result"
    }
   ],
   "source": [
    "pca_pipe"
   ]
  },
  {
   "cell_type": "code",
   "execution_count": 59,
   "id": "4c968a44",
   "metadata": {},
   "outputs": [
    {
     "data": {
      "text/plain": [
       "PCA()"
      ]
     },
     "execution_count": 59,
     "metadata": {},
     "output_type": "execute_result"
    }
   ],
   "source": [
    "# Extracting the trained model from the pipeline\n",
    "model_pca = pca_pipe.named_steps['pca']\n",
    "model_pca"
   ]
  },
  {
   "cell_type": "code",
   "execution_count": 63,
   "id": "21985e67",
   "metadata": {},
   "outputs": [
    {
     "name": "stdout",
     "output_type": "stream",
     "text": [
      "shape   :  (4, 4)\n"
     ]
    },
    {
     "data": {
      "text/plain": [
       "array([[ 0.53589947,  0.58318363,  0.27819087,  0.54343209],\n",
       "       [ 0.41818087,  0.1879856 , -0.87280619, -0.16731864],\n",
       "       [-0.34123273, -0.26814843, -0.37801579,  0.81777791],\n",
       "       [ 0.6492278 , -0.74340748,  0.13387773,  0.08902432]])"
      ]
     },
     "execution_count": 63,
     "metadata": {},
     "output_type": "execute_result"
    }
   ],
   "source": [
    "print(\"shape   : \", model_pca.components_.shape)\n",
    "model_pca.components_"
   ]
  },
  {
   "cell_type": "code",
   "execution_count": 64,
   "id": "ee618303",
   "metadata": {},
   "outputs": [
    {
     "data": {
      "text/plain": [
       "Index(['Murder', 'Assault', 'UrbanPop', 'Rape'], dtype='object')"
      ]
     },
     "execution_count": 64,
     "metadata": {},
     "output_type": "execute_result"
    }
   ],
   "source": [
    "data.columns"
   ]
  },
  {
   "cell_type": "code",
   "execution_count": 70,
   "id": "97e7c633",
   "metadata": {},
   "outputs": [
    {
     "data": {
      "text/html": [
       "<div>\n",
       "<style scoped>\n",
       "    .dataframe tbody tr th:only-of-type {\n",
       "        vertical-align: middle;\n",
       "    }\n",
       "\n",
       "    .dataframe tbody tr th {\n",
       "        vertical-align: top;\n",
       "    }\n",
       "\n",
       "    .dataframe thead th {\n",
       "        text-align: right;\n",
       "    }\n",
       "</style>\n",
       "<table border=\"1\" class=\"dataframe\">\n",
       "  <thead>\n",
       "    <tr style=\"text-align: right;\">\n",
       "      <th></th>\n",
       "      <th>Murder</th>\n",
       "      <th>Assault</th>\n",
       "      <th>UrbanPop</th>\n",
       "      <th>Rape</th>\n",
       "    </tr>\n",
       "  </thead>\n",
       "  <tbody>\n",
       "    <tr>\n",
       "      <th>PC1</th>\n",
       "      <td>0.535899</td>\n",
       "      <td>0.583184</td>\n",
       "      <td>0.278191</td>\n",
       "      <td>0.543432</td>\n",
       "    </tr>\n",
       "    <tr>\n",
       "      <th>PC2</th>\n",
       "      <td>0.418181</td>\n",
       "      <td>0.187986</td>\n",
       "      <td>-0.872806</td>\n",
       "      <td>-0.167319</td>\n",
       "    </tr>\n",
       "    <tr>\n",
       "      <th>PC3</th>\n",
       "      <td>-0.341233</td>\n",
       "      <td>-0.268148</td>\n",
       "      <td>-0.378016</td>\n",
       "      <td>0.817778</td>\n",
       "    </tr>\n",
       "    <tr>\n",
       "      <th>PC4</th>\n",
       "      <td>0.649228</td>\n",
       "      <td>-0.743407</td>\n",
       "      <td>0.133878</td>\n",
       "      <td>0.089024</td>\n",
       "    </tr>\n",
       "  </tbody>\n",
       "</table>\n",
       "</div>"
      ],
      "text/plain": [
       "       Murder   Assault  UrbanPop      Rape\n",
       "PC1  0.535899  0.583184  0.278191  0.543432\n",
       "PC2  0.418181  0.187986 -0.872806 -0.167319\n",
       "PC3 -0.341233 -0.268148 -0.378016  0.817778\n",
       "PC4  0.649228 -0.743407  0.133878  0.089024"
      ]
     },
     "execution_count": 70,
     "metadata": {},
     "output_type": "execute_result"
    }
   ],
   "source": [
    "# PCA dataframe\n",
    "pca_dataframe = pd.DataFrame(\n",
    "    data    = model_pca.components_,\n",
    "    columns = data.columns,\n",
    "    index   = ['PC1', 'PC2', 'PC3', 'PC4']\n",
    ")\n",
    "\n",
    "pca_dataframe"
   ]
  },
  {
   "cell_type": "code",
   "execution_count": 71,
   "id": "82513dd1",
   "metadata": {},
   "outputs": [
    {
     "data": {
      "text/plain": [
       "Index(['PC1', 'PC2', 'PC3', 'PC4'], dtype='object')"
      ]
     },
     "execution_count": 71,
     "metadata": {},
     "output_type": "execute_result"
    }
   ],
   "source": [
    "pca_dataframe.index"
   ]
  },
  {
   "cell_type": "raw",
   "id": "7e5b921f",
   "metadata": {},
   "source": [
    "# Interpret results\n",
    "\n",
    "PC1=0.535899*Murder + 0.583184*Assault + 0.278191*UrbanPop + 0.543432*Rape\n",
    "\n",
    "PC2=0.418181*Murder + 0.187986*Assault - 0.872806*UrbanPop - 0.167319*Rape"
   ]
  },
  {
   "cell_type": "markdown",
   "id": "7a6a296c",
   "metadata": {},
   "source": [
    "The first component mostly collects the information corresponding to crimes/offenses (Murder, Assault, and Rape)\n",
    "which are approximatively equal.\n",
    "\n",
    "The second component mostly collects the information corresponding to UrbanPop\n",
    "UrbanPop : the percent of the population living in urban areas\n",
    "\n",
    "**The first component corresponds mainly to crimes**\n",
    "\n",
    "**The second component corresponds mainly to the level of urbanization in the state.**"
   ]
  },
  {
   "cell_type": "code",
   "execution_count": 72,
   "id": "743ddb4b",
   "metadata": {},
   "outputs": [
    {
     "data": {
      "image/png": "[encoded data removed]",
      "text/plain": [
       "<Figure size 648x648 with 2 Axes>"
      ]
     },
     "metadata": {},
     "output_type": "display_data"
    }
   ],
   "source": [
    "# Heatmap components\n",
    "# ==============================================================================\n",
    "fig, ax = plt.subplots(nrows=1, ncols=1, figsize=(9, 9))\n",
    "components = model_pca.components_\n",
    "plt.imshow(components.T,  aspect='auto') # cmap='viridis'\n",
    "plt.yticks(range(len(data.columns)), data.columns)\n",
    "plt.xticks(range(len(datos.columns)), pca_dataframe.index)\n",
    "plt.grid(False)\n",
    "plt.colorbar();"
   ]
  },
  {
   "cell_type": "markdown",
   "id": "b4dd3dbe",
   "metadata": {},
   "source": [
    "# Variance ratio"
   ]
  },
  {
   "cell_type": "code",
   "execution_count": 75,
   "id": "4ca5fec4",
   "metadata": {},
   "outputs": [
    {
     "name": "stdout",
     "output_type": "stream",
     "text": [
      "[0.62006039 0.24744129 0.0891408  0.04335752]\n"
     ]
    },
    {
     "data": {
      "image/png": "[encoded data removed]",
      "text/plain": [
       "<Figure size 648x504 with 1 Axes>"
      ]
     },
     "metadata": {},
     "output_type": "display_data"
    }
   ],
   "source": [
    "# variance ratio per each PCA component\n",
    "\n",
    "print(model_pca.explained_variance_ratio_)\n",
    "\n",
    "fig, ax = plt.subplots(nrows=1, ncols=1, figsize=(9, 7))\n",
    "ax.bar(\n",
    "    x      = np.arange(model_pca.n_components_) + 1,\n",
    "    height = model_pca.explained_variance_ratio_\n",
    ")\n",
    "\n",
    "for x, y in zip(np.arange(len(data.columns)) + 1, model_pca.explained_variance_ratio_):\n",
    "    label = round(y, 2)\n",
    "    ax.annotate(\n",
    "        label,\n",
    "        (x,y),\n",
    "        textcoords=\"offset points\",\n",
    "        xytext=(0,10),\n",
    "        ha='center'\n",
    "    )\n",
    "\n",
    "ax.set_xticks(np.arange(model_pca.n_components_) + 1)\n",
    "ax.set_ylim(0, 1.1)\n",
    "ax.set_xlabel('Componente principal')\n",
    "ax.set_ylabel('Variance ratio');"
   ]
  },
  {
   "cell_type": "markdown",
   "id": "a7c17778",
   "metadata": {},
   "source": [
    "The first component explains 62% of variance we observes en data\n",
    "The second component explains 25%. "
   ]
  },
  {
   "cell_type": "code",
   "execution_count": 77,
   "id": "b294c5a4",
   "metadata": {},
   "outputs": [
    {
     "name": "stdout",
     "output_type": "stream",
     "text": [
      "[0.62006039 0.86750168 0.95664248 1.        ]\n"
     ]
    },
    {
     "data": {
      "image/png": "[encoded data removed]",
      "text/plain": [
       "<Figure size 432x288 with 1 Axes>"
      ]
     },
     "metadata": {},
     "output_type": "display_data"
    }
   ],
   "source": [
    "# Cumulative variance \n",
    "# ==============================================================================\n",
    "cum_variance = model_pca.explained_variance_ratio_.cumsum()\n",
    "\n",
    "print(cum_variance)\n",
    "\n",
    "fig, ax = plt.subplots(nrows=1, ncols=1, figsize=(6, 4))\n",
    "ax.plot(\n",
    "    np.arange(len(data.columns)) + 1,\n",
    "    cum_variance,\n",
    "    marker = 'o'\n",
    ")\n",
    "\n",
    "for x, y in zip(np.arange(len(data.columns)) + 1, cum_variance):\n",
    "    label = round(y, 2)\n",
    "    ax.annotate(\n",
    "        label,\n",
    "        (x,y),\n",
    "        textcoords=\"offset points\",\n",
    "        xytext=(0,10),\n",
    "        ha='center'\n",
    "    )\n",
    "    \n",
    "ax.set_ylim(0, 1.1)\n",
    "ax.set_xticks(np.arange(modelo_pca.n_components_) + 1)\n",
    "ax.set_xlabel('Componente principal')\n",
    "ax.set_ylabel('Cumulative variance');"
   ]
  },
  {
   "cell_type": "markdown",
   "id": "c0736f03",
   "metadata": {},
   "source": [
    "Based on PCA1 and PCA2, we would explain the variance of data (87%)"
   ]
  },
  {
   "cell_type": "markdown",
   "id": "86e7a64c",
   "metadata": {},
   "source": [
    "# Trasformation"
   ]
  },
  {
   "cell_type": "markdown",
   "id": "8cea6737",
   "metadata": {},
   "source": [
    "## Using scaler product"
   ]
  },
  {
   "cell_type": "code",
   "execution_count": 86,
   "id": "fdddafc2",
   "metadata": {},
   "outputs": [
    {
     "data": {
      "text/html": [
       "<div>\n",
       "<style scoped>\n",
       "    .dataframe tbody tr th:only-of-type {\n",
       "        vertical-align: middle;\n",
       "    }\n",
       "\n",
       "    .dataframe tbody tr th {\n",
       "        vertical-align: top;\n",
       "    }\n",
       "\n",
       "    .dataframe thead th {\n",
       "        text-align: right;\n",
       "    }\n",
       "</style>\n",
       "<table border=\"1\" class=\"dataframe\">\n",
       "  <thead>\n",
       "    <tr style=\"text-align: right;\">\n",
       "      <th></th>\n",
       "      <th>PC1</th>\n",
       "      <th>PC2</th>\n",
       "      <th>PC3</th>\n",
       "      <th>PC4</th>\n",
       "    </tr>\n",
       "  </thead>\n",
       "  <tbody>\n",
       "    <tr>\n",
       "      <th>Alabama</th>\n",
       "      <td>0.985566</td>\n",
       "      <td>1.133392</td>\n",
       "      <td>-0.444269</td>\n",
       "      <td>0.156267</td>\n",
       "    </tr>\n",
       "    <tr>\n",
       "      <th>Alaska</th>\n",
       "      <td>1.950138</td>\n",
       "      <td>1.073213</td>\n",
       "      <td>2.040003</td>\n",
       "      <td>-0.438583</td>\n",
       "    </tr>\n",
       "    <tr>\n",
       "      <th>Arizona</th>\n",
       "      <td>1.763164</td>\n",
       "      <td>-0.745957</td>\n",
       "      <td>0.054781</td>\n",
       "      <td>-0.834653</td>\n",
       "    </tr>\n",
       "  </tbody>\n",
       "</table>\n",
       "</div>"
      ],
      "text/plain": [
       "              PC1       PC2       PC3       PC4\n",
       "Alabama  0.985566  1.133392 -0.444269  0.156267\n",
       "Alaska   1.950138  1.073213  2.040003 -0.438583\n",
       "Arizona  1.763164 -0.745957  0.054781 -0.834653"
      ]
     },
     "execution_count": 86,
     "metadata": {},
     "output_type": "execute_result"
    }
   ],
   "source": [
    "proj = np.dot(model_pca.components_, scale(data).T)\n",
    "proj = pd.DataFrame(proj, index = ['PC1', 'PC2', 'PC3', 'PC4'])\n",
    "proj = proj.transpose().set_index(data.index)\n",
    "proj.head(3)"
   ]
  },
  {
   "cell_type": "markdown",
   "id": "5290be6e",
   "metadata": {},
   "source": [
    "## Using transform() method "
   ]
  },
  {
   "cell_type": "markdown",
   "id": "957b5545",
   "metadata": {},
   "source": [
    "We can reduce the dimensionality of new observations with the transform() method\n",
    "by projecting them into the space defined by the components."
   ]
  },
  {
   "cell_type": "code",
   "execution_count": 80,
   "id": "3403b172",
   "metadata": {},
   "outputs": [
    {
     "data": {
      "text/plain": [
       "Pipeline(steps=[('standardscaler', StandardScaler()), ('pca', PCA())])"
      ]
     },
     "execution_count": 80,
     "metadata": {},
     "output_type": "execute_result"
    }
   ],
   "source": [
    "pca_pipe"
   ]
  },
  {
   "cell_type": "code",
   "execution_count": 85,
   "id": "240bb10a",
   "metadata": {},
   "outputs": [
    {
     "data": {
      "text/html": [
       "<div>\n",
       "<style scoped>\n",
       "    .dataframe tbody tr th:only-of-type {\n",
       "        vertical-align: middle;\n",
       "    }\n",
       "\n",
       "    .dataframe tbody tr th {\n",
       "        vertical-align: top;\n",
       "    }\n",
       "\n",
       "    .dataframe thead th {\n",
       "        text-align: right;\n",
       "    }\n",
       "</style>\n",
       "<table border=\"1\" class=\"dataframe\">\n",
       "  <thead>\n",
       "    <tr style=\"text-align: right;\">\n",
       "      <th></th>\n",
       "      <th>PC1</th>\n",
       "      <th>PC2</th>\n",
       "      <th>PC3</th>\n",
       "      <th>PC4</th>\n",
       "    </tr>\n",
       "  </thead>\n",
       "  <tbody>\n",
       "    <tr>\n",
       "      <th>Alabama</th>\n",
       "      <td>0.985566</td>\n",
       "      <td>1.133392</td>\n",
       "      <td>-0.444269</td>\n",
       "      <td>0.156267</td>\n",
       "    </tr>\n",
       "    <tr>\n",
       "      <th>Alaska</th>\n",
       "      <td>1.950138</td>\n",
       "      <td>1.073213</td>\n",
       "      <td>2.040003</td>\n",
       "      <td>-0.438583</td>\n",
       "    </tr>\n",
       "    <tr>\n",
       "      <th>Arizona</th>\n",
       "      <td>1.763164</td>\n",
       "      <td>-0.745957</td>\n",
       "      <td>0.054781</td>\n",
       "      <td>-0.834653</td>\n",
       "    </tr>\n",
       "  </tbody>\n",
       "</table>\n",
       "</div>"
      ],
      "text/plain": [
       "              PC1       PC2       PC3       PC4\n",
       "Alabama  0.985566  1.133392 -0.444269  0.156267\n",
       "Alaska   1.950138  1.073213  2.040003 -0.438583\n",
       "Arizona  1.763164 -0.745957  0.054781 -0.834653"
      ]
     },
     "execution_count": 85,
     "metadata": {},
     "output_type": "execute_result"
    }
   ],
   "source": [
    "# Projecting\n",
    "proj = pca_pipe.transform(X=data)\n",
    "proj = pd.DataFrame(\n",
    "    proj,\n",
    "    columns = ['PC1', 'PC2', 'PC3', 'PC4'],\n",
    "    index   = data.index\n",
    ")\n",
    "proj.head(3)"
   ]
  },
  {
   "cell_type": "markdown",
   "id": "532491b8",
   "metadata": {},
   "source": [
    "#  Reconstruct projections"
   ]
  },
  {
   "cell_type": "code",
   "execution_count": 87,
   "id": "42d9b49b",
   "metadata": {},
   "outputs": [
    {
     "name": "stdout",
     "output_type": "stream",
     "text": [
      "------------------\n",
      "Initial values\n",
      "------------------\n"
     ]
    },
    {
     "data": {
      "text/html": [
       "<div>\n",
       "<style scoped>\n",
       "    .dataframe tbody tr th:only-of-type {\n",
       "        vertical-align: middle;\n",
       "    }\n",
       "\n",
       "    .dataframe tbody tr th {\n",
       "        vertical-align: top;\n",
       "    }\n",
       "\n",
       "    .dataframe thead th {\n",
       "        text-align: right;\n",
       "    }\n",
       "</style>\n",
       "<table border=\"1\" class=\"dataframe\">\n",
       "  <thead>\n",
       "    <tr style=\"text-align: right;\">\n",
       "      <th></th>\n",
       "      <th>Murder</th>\n",
       "      <th>Assault</th>\n",
       "      <th>UrbanPop</th>\n",
       "      <th>Rape</th>\n",
       "    </tr>\n",
       "  </thead>\n",
       "  <tbody>\n",
       "    <tr>\n",
       "      <th>Alabama</th>\n",
       "      <td>13.2</td>\n",
       "      <td>236.0</td>\n",
       "      <td>58.0</td>\n",
       "      <td>21.2</td>\n",
       "    </tr>\n",
       "    <tr>\n",
       "      <th>Alaska</th>\n",
       "      <td>10.0</td>\n",
       "      <td>263.0</td>\n",
       "      <td>48.0</td>\n",
       "      <td>44.5</td>\n",
       "    </tr>\n",
       "    <tr>\n",
       "      <th>Arizona</th>\n",
       "      <td>8.1</td>\n",
       "      <td>294.0</td>\n",
       "      <td>80.0</td>\n",
       "      <td>31.0</td>\n",
       "    </tr>\n",
       "    <tr>\n",
       "      <th>Arkansas</th>\n",
       "      <td>8.8</td>\n",
       "      <td>190.0</td>\n",
       "      <td>50.0</td>\n",
       "      <td>19.5</td>\n",
       "    </tr>\n",
       "    <tr>\n",
       "      <th>California</th>\n",
       "      <td>9.0</td>\n",
       "      <td>276.0</td>\n",
       "      <td>91.0</td>\n",
       "      <td>40.6</td>\n",
       "    </tr>\n",
       "  </tbody>\n",
       "</table>\n",
       "</div>"
      ],
      "text/plain": [
       "            Murder  Assault  UrbanPop  Rape\n",
       "Alabama       13.2    236.0      58.0  21.2\n",
       "Alaska        10.0    263.0      48.0  44.5\n",
       "Arizona        8.1    294.0      80.0  31.0\n",
       "Arkansas       8.8    190.0      50.0  19.5\n",
       "California     9.0    276.0      91.0  40.6"
      ]
     },
     "metadata": {},
     "output_type": "display_data"
    },
    {
     "name": "stdout",
     "output_type": "stream",
     "text": [
      "---------------------\n",
      "Reconstructed values\n",
      "---------------------\n"
     ]
    },
    {
     "data": {
      "text/html": [
       "<div>\n",
       "<style scoped>\n",
       "    .dataframe tbody tr th:only-of-type {\n",
       "        vertical-align: middle;\n",
       "    }\n",
       "\n",
       "    .dataframe tbody tr th {\n",
       "        vertical-align: top;\n",
       "    }\n",
       "\n",
       "    .dataframe thead th {\n",
       "        text-align: right;\n",
       "    }\n",
       "</style>\n",
       "<table border=\"1\" class=\"dataframe\">\n",
       "  <thead>\n",
       "    <tr style=\"text-align: right;\">\n",
       "      <th></th>\n",
       "      <th>Murder</th>\n",
       "      <th>Assault</th>\n",
       "      <th>UrbanPop</th>\n",
       "      <th>Rape</th>\n",
       "    </tr>\n",
       "  </thead>\n",
       "  <tbody>\n",
       "    <tr>\n",
       "      <th>Alabama</th>\n",
       "      <td>13.2</td>\n",
       "      <td>236</td>\n",
       "      <td>58</td>\n",
       "      <td>21.2</td>\n",
       "    </tr>\n",
       "    <tr>\n",
       "      <th>Alaska</th>\n",
       "      <td>10.0</td>\n",
       "      <td>263</td>\n",
       "      <td>48</td>\n",
       "      <td>44.5</td>\n",
       "    </tr>\n",
       "    <tr>\n",
       "      <th>Arizona</th>\n",
       "      <td>8.1</td>\n",
       "      <td>294</td>\n",
       "      <td>80</td>\n",
       "      <td>31.0</td>\n",
       "    </tr>\n",
       "    <tr>\n",
       "      <th>Arkansas</th>\n",
       "      <td>8.8</td>\n",
       "      <td>190</td>\n",
       "      <td>50</td>\n",
       "      <td>19.5</td>\n",
       "    </tr>\n",
       "    <tr>\n",
       "      <th>California</th>\n",
       "      <td>9.0</td>\n",
       "      <td>276</td>\n",
       "      <td>91</td>\n",
       "      <td>40.6</td>\n",
       "    </tr>\n",
       "  </tbody>\n",
       "</table>\n",
       "</div>"
      ],
      "text/plain": [
       "            Murder  Assault  UrbanPop  Rape\n",
       "Alabama       13.2      236        58  21.2\n",
       "Alaska        10.0      263        48  44.5\n",
       "Arizona        8.1      294        80  31.0\n",
       "Arkansas       8.8      190        50  19.5\n",
       "California     9.0      276        91  40.6"
      ]
     },
     "metadata": {},
     "output_type": "display_data"
    }
   ],
   "source": [
    "# Reconstruct \n",
    "reconstruct = pca_pipe.inverse_transform(X=proj)\n",
    "reconstruct = pd.DataFrame(\n",
    "                    reconstruct,\n",
    "                    columns = data.columns,\n",
    "                    index   = data.index\n",
    ")\n",
    "print('------------------')\n",
    "print('Initial values')\n",
    "print('------------------')\n",
    "display(reconstruct.head())\n",
    "\n",
    "print('---------------------')\n",
    "print('Reconstructed values')\n",
    "print('---------------------')\n",
    "display(data.head())"
   ]
  },
  {
   "cell_type": "code",
   "execution_count": null,
   "id": "4d390ac8",
   "metadata": {},
   "outputs": [],
   "source": []
  }
 ],
 "metadata": {
  "kernelspec": {
   "display_name": "Python 3 (ipykernel)",
   "language": "python",
   "name": "python3"
  },
  "language_info": {
   "codemirror_mode": {
    "name": "ipython",
    "version": 3
   },
   "file_extension": ".py",
   "mimetype": "text/x-python",
   "name": "python",
   "nbconvert_exporter": "python",
   "pygments_lexer": "ipython3",
   "version": "3.8.6"
  },
  "toc": {
   "base_numbering": 1,
   "nav_menu": {},
   "number_sections": true,
   "sideBar": true,
   "skip_h1_title": false,
   "title_cell": "Table of Contents",
   "title_sidebar": "Contents",
   "toc_cell": false,
   "toc_position": {},
   "toc_section_display": true,
   "toc_window_display": true
  }
 },
 "nbformat": 4,
 "nbformat_minor": 5
}
